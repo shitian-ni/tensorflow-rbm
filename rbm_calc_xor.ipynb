{
 "cells": [
  {
   "cell_type": "markdown",
   "metadata": {},
   "source": [
    "## Train a  Bernoulli-Bernoulli RBM (BBRBM) to fit XOR calculations"
   ]
  },
  {
   "cell_type": "code",
   "execution_count": 1,
   "metadata": {},
   "outputs": [],
   "source": [
    "import numpy as np\n",
    "import timeit\n",
    "from tfrbm.bbrbm import BBRBM"
   ]
  },
  {
   "cell_type": "code",
   "execution_count": 2,
   "metadata": {},
   "outputs": [],
   "source": [
    "bm = BBRBM(n_visible=3,n_hidden=6)"
   ]
  },
  {
   "cell_type": "markdown",
   "metadata": {},
   "source": [
    "### dataset[i][0] xor dataset[i][1] = dataset[i][2]"
   ]
  },
  {
   "cell_type": "code",
   "execution_count": 3,
   "metadata": {},
   "outputs": [],
   "source": [
    "dataset = np.array([[0,0,0],[0,1,1],[1,0,1],[1,1,0]])"
   ]
  },
  {
   "cell_type": "markdown",
   "metadata": {},
   "source": [
    "### Train and predict same data in same iterations\n",
    "x is the correct data to train the model  \n",
    "x2 has wrong xor answer ( the third digit )  \n",
    "x2 would be reconstructed to x after training"
   ]
  },
  {
   "cell_type": "code",
   "execution_count": 4,
   "metadata": {},
   "outputs": [
    {
     "name": "stdout",
     "output_type": "stream",
     "text": [
      "x: [[0 0 0]]\n",
      "x2: [[0 0 1]]\n",
      "Training model with x\n",
      "model reconstructed x: [[0. 0. 0.]]\n",
      "model reconstructed x2: [[0. 0. 0.]]\n",
      "Training done\n",
      "model predicting x third digit to be: [0]\n",
      "model predicting x2 third digit to be: [0]\n",
      "------------------------------------\n",
      "x: [[0 1 1]]\n",
      "x2: [[0 1 0]]\n",
      "Training model with x\n",
      "model reconstructed x: [[0. 1. 1.]]\n",
      "model reconstructed x2: [[0. 1. 1.]]\n",
      "Training done\n",
      "model predicting x third digit to be: [1]\n",
      "model predicting x2 third digit to be: [1]\n",
      "------------------------------------\n",
      "x: [[1 0 1]]\n",
      "x2: [[1 0 0]]\n",
      "Training model with x\n",
      "model reconstructed x: [[1. 0. 1.]]\n",
      "model reconstructed x2: [[1. 0. 1.]]\n",
      "Training done\n",
      "model predicting x third digit to be: [1]\n",
      "model predicting x2 third digit to be: [1]\n",
      "------------------------------------\n",
      "x: [[1 1 0]]\n",
      "x2: [[1 1 1]]\n",
      "Training model with x\n",
      "model reconstructed x: [[1. 1. 0.]]\n",
      "model reconstructed x2: [[1. 1. 0.]]\n",
      "Training done\n",
      "model predicting x third digit to be: [0]\n",
      "model predicting x2 third digit to be: [0]\n",
      "------------------------------------\n"
     ]
    }
   ],
   "source": [
    "for i in range(4):\n",
    "    x = dataset[i:i+1].copy()\n",
    "    x2 = dataset[i:i+1].copy()\n",
    "    x2[0,2] = 1-x2[0,2]\n",
    "    print \"x:\",x\n",
    "    print \"x2:\",x2\n",
    "    print \"Training model with x\"\n",
    "    err = bm.fit(x,n_epoches=1000)\n",
    "    print \"model reconstructed x:\",np.round(bm.reconstruct(x))\n",
    "    print \"model reconstructed x2:\",np.round(bm.reconstruct(x2))\n",
    "    print \"Training done\"\n",
    "\n",
    "    positions_to_predict = [2]\n",
    "    prediction = bm.predict(x,positions_to_predict=positions_to_predict) # best result, energy for all possibilities\n",
    "    print \"model predicting x third digit to be:\",prediction[0].tolist()\n",
    "    prediction = bm.predict(x2,positions_to_predict=positions_to_predict)\n",
    "    print \"model predicting x2 third digit to be:\",prediction[0].tolist()\n",
    "    print \"------------------------------------\""
   ]
  },
  {
   "cell_type": "markdown",
   "metadata": {},
   "source": [
    "### All x variations would be reconstructured to the last training data [1, 1, 0]"
   ]
  },
  {
   "cell_type": "code",
   "execution_count": 5,
   "metadata": {},
   "outputs": [
    {
     "name": "stdout",
     "output_type": "stream",
     "text": [
      "x: [[0 0 0]]\n",
      "x2: [[0 0 1]]\n",
      "model reconstructed x: [[1. 1. 0.]]\n",
      "model reconstructed x2: [[1. 1. 0.]]\n",
      "------------------------------------\n",
      "x: [[0 1 1]]\n",
      "x2: [[0 1 0]]\n",
      "model reconstructed x: [[1. 1. 0.]]\n",
      "model reconstructed x2: [[1. 1. 0.]]\n",
      "------------------------------------\n",
      "x: [[1 0 1]]\n",
      "x2: [[1 0 0]]\n",
      "model reconstructed x: [[1. 1. 0.]]\n",
      "model reconstructed x2: [[1. 1. 0.]]\n",
      "------------------------------------\n",
      "x: [[1 1 0]]\n",
      "x2: [[1 1 1]]\n",
      "model reconstructed x: [[1. 1. 0.]]\n",
      "model reconstructed x2: [[1. 1. 0.]]\n",
      "------------------------------------\n"
     ]
    }
   ],
   "source": [
    "for i in range(4):\n",
    "    x = dataset[i:i+1].copy()\n",
    "    x2 = dataset[i:i+1].copy()\n",
    "    x2[0,2] = 1-x2[0,2]\n",
    "    print \"x:\",x\n",
    "    print \"x2:\",x2\n",
    "    \n",
    "    positions_to_predict = [2]\n",
    "    print \"model reconstructed x:\",np.round(bm.reconstruct(x))\n",
    "    print \"model reconstructed x2:\",np.round(bm.reconstruct(x2))\n",
    "    print \"------------------------------------\""
   ]
  },
  {
   "cell_type": "markdown",
   "metadata": {},
   "source": [
    "### Majority vote data would be the data reconstruction target\n",
    "new fit() on top of the already trained model will fit the model to the new training data"
   ]
  },
  {
   "cell_type": "code",
   "execution_count": 6,
   "metadata": {},
   "outputs": [
    {
     "name": "stdout",
     "output_type": "stream",
     "text": [
      "training_data: [[0 0 0]\n",
      " [0 0 0]\n",
      " [0 0 0]\n",
      " [0 0 0]\n",
      " [0 0 0]\n",
      " [0 0 0]\n",
      " [0 0 0]\n",
      " [0 0 0]\n",
      " [0 0 0]\n",
      " [0 0 1]]\n",
      "Time:  2.04646015167 sec\n",
      "model reconstructed [0,0,0]: [[0. 0. 0.]]\n",
      "model reconstructed [0,0,1]: [[0. 0. 0.]]\n",
      "model predicting [0,0,0] third digit to be: [1]\n",
      "model predicting [0,0,1] third digit to be: [1]\n"
     ]
    }
   ],
   "source": [
    "training_data = np.array([[0,0,0],[0,0,1]])\n",
    "training_data = np.repeat(training_data, [9,1],axis=0)\n",
    "print \"training_data:\",training_data\n",
    "start = timeit.default_timer()\n",
    "err = bm.fit(training_data,n_epoches=1000)\n",
    "stop = timeit.default_timer()\n",
    "print 'Time: ', stop - start, \"sec\"\n",
    "print \"model reconstructed [0,0,0]:\",np.round(bm.reconstruct(training_data[0:1]))\n",
    "print \"model reconstructed [0,0,1]:\",np.round(bm.reconstruct(training_data[-2:-1]))\n",
    "positions_to_predict = [2]\n",
    "prediction = bm.predict(training_data[0:1],positions_to_predict=positions_to_predict)\n",
    "print \"model predicting [0,0,0] third digit to be:\",prediction[0].tolist()\n",
    "prediction = bm.predict(training_data[-2:-1],positions_to_predict=positions_to_predict)\n",
    "print \"model predicting [0,0,1] third digit to be:\",prediction[0].tolist()"
   ]
  },
  {
   "cell_type": "markdown",
   "metadata": {},
   "source": [
    "### model would be overwritten with new training data\n",
    "Model may not reconstruct to the next new majority [0,0,1] because of the previous trainings.  \n",
    "But still can predict 0 xor 0 to be 1 from free energy comparison  \n",
    "May need more iterations (3000 here) than before to reverse the previous memory, and also learn the new data\n",
    "\n",
    "Note here that the training process is stochastic, so different runs may lead to different results  \n",
    "See tfrbm/bbrbm.py `line 12` `... sample_bernoulli ...`"
   ]
  },
  {
   "cell_type": "code",
   "execution_count": 7,
   "metadata": {
    "scrolled": true
   },
   "outputs": [
    {
     "name": "stdout",
     "output_type": "stream",
     "text": [
      "training_data: [[0 0 0]\n",
      " [0 0 0]\n",
      " [0 0 1]\n",
      " [0 0 1]\n",
      " [0 0 1]\n",
      " [0 0 1]\n",
      " [0 0 1]\n",
      " [0 0 1]\n",
      " [0 0 1]\n",
      " [0 0 1]]\n",
      "Time:  7.17365694046 sec\n",
      "model reconstructed [0,0,0]: [[0. 0. 0.]]\n",
      "model reconstructed [0,0,1]: [[0. 0. 1.]]\n",
      "model predicting [0,0,0] third digit to be: [1]\n",
      "model predicting [0,0,1] third digit to be: [1]\n"
     ]
    }
   ],
   "source": [
    "training_data = np.array([[0,0,0],[0,0,1]])\n",
    "training_data = np.repeat(training_data, [2,8],axis=0)\n",
    "print \"training_data:\",training_data\n",
    "start = timeit.default_timer()\n",
    "err = bm.fit(training_data,n_epoches=3000)\n",
    "stop = timeit.default_timer()\n",
    "print 'Time: ', stop - start, \"sec\"\n",
    "print \"model reconstructed [0,0,0]:\",np.round(bm.reconstruct(training_data[0:1]))\n",
    "print \"model reconstructed [0,0,1]:\",np.round(bm.reconstruct(training_data[-2:-1]))\n",
    "positions_to_predict = [2]\n",
    "prediction = bm.predict(training_data[0:1],positions_to_predict=positions_to_predict)\n",
    "print \"model predicting [0,0,0] third digit to be:\",prediction[0].tolist()\n",
    "prediction = bm.predict(training_data[-2:-1],positions_to_predict=positions_to_predict)\n",
    "print \"model predicting [0,0,1] third digit to be:\",prediction[0].tolist()"
   ]
  },
  {
   "cell_type": "markdown",
   "metadata": {},
   "source": [
    "### Try all xor configurations"
   ]
  },
  {
   "cell_type": "code",
   "execution_count": 8,
   "metadata": {},
   "outputs": [],
   "source": [
    "bm = BBRBM(n_visible=3,n_hidden=6)"
   ]
  },
  {
   "cell_type": "code",
   "execution_count": 9,
   "metadata": {},
   "outputs": [
    {
     "name": "stdout",
     "output_type": "stream",
     "text": [
      "Time:  42.9245870113 sec\n",
      "model reconstructed [0,0,0]: [[0. 0. 0.]]\n",
      "model reconstructed [0,0,1]: [[0. 0. 1.]]\n",
      "model reconstructed [1,0,1]: [[1. 0. 1.]]\n",
      "model reconstructed [1,0,0]: [[1. 0. 0.]]\n",
      "model reconstructed [0,1,1]: [[0. 1. 1.]]\n",
      "model reconstructed [0,1,0]: [[0. 1. 0.]]\n",
      "model reconstructed [1,1,1]: [[1. 1. 0.]]\n",
      "model reconstructed [0,1,0]: [[1. 1. 1.]]\n",
      "model predicting [0,0,0] third digit to be: [0]\n",
      "model predicting [1,0,1] third digit to be: [1]\n",
      "model predicting  [[0 1 1]]  third digit to be: [1]\n",
      "model predicting  [[1 1 0]]  third digit to be: [0]\n"
     ]
    },
    {
     "data": {
      "text/plain": [
       "(array([[ -9.02506  , -14.475382 ,   7.4259243,  -9.042882 ,   5.7122197,\n",
       "          -8.926743 ],\n",
       "        [ -9.299903 ,   8.457299 , -15.064847 ,  -8.423458 ,   5.906968 ,\n",
       "          -8.588317 ],\n",
       "        [ -9.1331215,   7.693514 ,   7.1572547,  -8.338895 , -14.663059 ,\n",
       "          -8.596853 ]], dtype=float32),\n",
       " array([3.7384994, 4.200773 , 4.254384 ], dtype=float32),\n",
       " array([ 5.19207  , -3.6247444, -3.233593 ,  4.7552857, -3.3548362,\n",
       "         4.861169 ], dtype=float32))"
      ]
     },
     "execution_count": 9,
     "metadata": {},
     "output_type": "execute_result"
    }
   ],
   "source": [
    "training_data = np.array([[0,0,0],[1,0,1],[0,1,1],[1,1,0]])\n",
    "\n",
    "# print \"training_data:\",training_data\n",
    "start = timeit.default_timer()\n",
    "\n",
    "training_data_ = np.repeat(training_data, [1,1,1,1],axis=0)\n",
    "err = bm.fit(training_data_,n_epoches=20000)\n",
    "\n",
    "stop = timeit.default_timer()\n",
    "print 'Time: ', stop - start, \"sec\"\n",
    "print \"model reconstructed [0,0,0]:\",np.round(bm.reconstruct(training_data[0:1]))\n",
    "print \"model reconstructed [0,0,1]:\",np.round(bm.reconstruct([[0,0,1]]))\n",
    "print \"model reconstructed [1,0,1]:\",np.round(bm.reconstruct(training_data[1:2]))\n",
    "print \"model reconstructed [1,0,0]:\",np.round(bm.reconstruct([[1,0,0]]))\n",
    "print \"model reconstructed [0,1,1]:\",np.round(bm.reconstruct(training_data[2:3]))\n",
    "print \"model reconstructed [0,1,0]:\",np.round(bm.reconstruct([[0,1,0]]))\n",
    "print \"model reconstructed [1,1,1]:\",np.round(bm.reconstruct(training_data[3:4]))\n",
    "print \"model reconstructed [0,1,0]:\",np.round(bm.reconstruct([[1,1,1]]))\n",
    "                                              \n",
    "positions_to_predict = [2]\n",
    "prediction = bm.predict(training_data[0:1],positions_to_predict=positions_to_predict)\n",
    "print \"model predicting [0,0,0] third digit to be:\",prediction[0].tolist()\n",
    "prediction = bm.predict(training_data[1:2],positions_to_predict=positions_to_predict)\n",
    "print \"model predicting [1,0,1] third digit to be:\",prediction[0].tolist()\n",
    "prediction = bm.predict(training_data[2:3],positions_to_predict=positions_to_predict)\n",
    "print \"model predicting \",training_data[2:3],\" third digit to be:\",prediction[0].tolist()\n",
    "prediction = bm.predict(training_data[-1:],positions_to_predict=positions_to_predict)\n",
    "print \"model predicting \",training_data[-1:],\" third digit to be:\",prediction[0].tolist()\n",
    "bm.get_weights()"
   ]
  },
  {
   "cell_type": "code",
   "execution_count": null,
   "metadata": {},
   "outputs": [],
   "source": []
  }
 ],
 "metadata": {
  "kernelspec": {
   "display_name": "Python 2",
   "language": "python",
   "name": "python2"
  },
  "language_info": {
   "codemirror_mode": {
    "name": "ipython",
    "version": 2
   },
   "file_extension": ".py",
   "mimetype": "text/x-python",
   "name": "python",
   "nbconvert_exporter": "python",
   "pygments_lexer": "ipython2",
   "version": "2.7.15"
  }
 },
 "nbformat": 4,
 "nbformat_minor": 2
}
