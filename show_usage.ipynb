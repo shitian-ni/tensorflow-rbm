{
 "cells": [
  {
   "cell_type": "markdown",
   "metadata": {},
   "source": [
    "## Train a  Bernoulli-Bernoulli RBM (BBRBM) to fit XOR calculations"
   ]
  },
  {
   "cell_type": "code",
   "execution_count": 1,
   "metadata": {},
   "outputs": [],
   "source": [
    "import numpy as np\n",
    "import timeit\n",
    "from tfrbm.bbrbm import BBRBM"
   ]
  },
  {
   "cell_type": "code",
   "execution_count": 2,
   "metadata": {},
   "outputs": [],
   "source": [
    "bm = BBRBM(n_visible=3,n_hidden=13)"
   ]
  },
  {
   "cell_type": "markdown",
   "metadata": {},
   "source": [
    "### dataset[i][0] xor dataset[i][1] = dataset[i][2]"
   ]
  },
  {
   "cell_type": "code",
   "execution_count": 3,
   "metadata": {},
   "outputs": [],
   "source": [
    "dataset = np.array([[0,0,0],[0,1,1],[1,0,1],[1,1,0]])"
   ]
  },
  {
   "cell_type": "markdown",
   "metadata": {},
   "source": [
    "### Train and predict same data in same epoch"
   ]
  },
  {
   "cell_type": "code",
   "execution_count": 4,
   "metadata": {},
   "outputs": [
    {
     "name": "stdout",
     "output_type": "stream",
     "text": [
      "x: [[0 0 0]]\n",
      "x2: [[0 0 1]]\n",
      "Training model with x\n",
      "model reconstructed x: [[0. 0. 0.]]\n",
      "model reconstructed x2: [[0. 0. 0.]]\n",
      "Training done\n",
      "model predicting x third digit to be: [0]\n",
      "model predicting x2 third digit to be: [0]\n",
      "------------------------------------\n",
      "x: [[0 1 1]]\n",
      "x2: [[0 1 0]]\n",
      "Training model with x\n",
      "model reconstructed x: [[0. 1. 1.]]\n",
      "model reconstructed x2: [[0. 1. 1.]]\n",
      "Training done\n",
      "model predicting x third digit to be: [1]\n",
      "model predicting x2 third digit to be: [1]\n",
      "------------------------------------\n",
      "x: [[1 0 1]]\n",
      "x2: [[1 0 0]]\n",
      "Training model with x\n",
      "model reconstructed x: [[1. 0. 1.]]\n",
      "model reconstructed x2: [[1. 0. 1.]]\n",
      "Training done\n",
      "model predicting x third digit to be: [1]\n",
      "model predicting x2 third digit to be: [1]\n",
      "------------------------------------\n",
      "x: [[1 1 0]]\n",
      "x2: [[1 1 1]]\n",
      "Training model with x\n",
      "model reconstructed x: [[1. 1. 0.]]\n",
      "model reconstructed x2: [[1. 1. 0.]]\n",
      "Training done\n",
      "model predicting x third digit to be: [0]\n",
      "model predicting x2 third digit to be: [0]\n",
      "------------------------------------\n"
     ]
    }
   ],
   "source": [
    "for i in range(4):\n",
    "    x = dataset[i:i+1].copy()\n",
    "    x2 = dataset[i:i+1].copy()\n",
    "    x2[0,2] = 1-x2[0,2]\n",
    "    print \"x:\",x\n",
    "    print \"x2:\",x2\n",
    "    print \"Training model with x\"\n",
    "    err = bm.fit(x,n_epoches=1000)\n",
    "    print \"model reconstructed x:\",np.round(bm.reconstruct(x))\n",
    "    print \"model reconstructed x2:\",np.round(bm.reconstruct(x2))\n",
    "    print \"Training done\"\n",
    "\n",
    "    positions_to_predict = [2]\n",
    "    prediction = bm.predict(x,positions_to_predict=positions_to_predict) # best result, energy for all possibilities\n",
    "    print \"model predicting x third digit to be:\",prediction[0].tolist()\n",
    "    prediction = bm.predict(x2,positions_to_predict=positions_to_predict)\n",
    "    print \"model predicting x2 third digit to be:\",prediction[0].tolist()\n",
    "    print \"------------------------------------\""
   ]
  },
  {
   "cell_type": "code",
   "execution_count": 5,
   "metadata": {},
   "outputs": [
    {
     "name": "stdout",
     "output_type": "stream",
     "text": [
      "x: [[0 0 0]]\n",
      "x2: [[0 0 1]]\n",
      "model reconstructed x: [[1. 1. 0.]]\n",
      "model reconstructed x2: [[1. 1. 0.]]\n",
      "------------------------------------\n",
      "x: [[0 1 1]]\n",
      "x2: [[0 1 0]]\n",
      "model reconstructed x: [[1. 1. 0.]]\n",
      "model reconstructed x2: [[1. 1. 0.]]\n",
      "------------------------------------\n",
      "x: [[1 0 1]]\n",
      "x2: [[1 0 0]]\n",
      "model reconstructed x: [[1. 1. 0.]]\n",
      "model reconstructed x2: [[1. 1. 0.]]\n",
      "------------------------------------\n",
      "x: [[1 1 0]]\n",
      "x2: [[1 1 1]]\n",
      "model reconstructed x: [[1. 1. 0.]]\n",
      "model reconstructed x2: [[1. 1. 0.]]\n",
      "------------------------------------\n"
     ]
    }
   ],
   "source": [
    "for i in range(4):\n",
    "    x = dataset[i:i+1].copy()\n",
    "    x2 = dataset[i:i+1].copy()\n",
    "    x2[0,2] = 1-x2[0,2]\n",
    "    print \"x:\",x\n",
    "    print \"x2:\",x2\n",
    "    \n",
    "    positions_to_predict = [2]\n",
    "    print \"model reconstructed x:\",np.round(bm.reconstruct(x))\n",
    "    print \"model reconstructed x2:\",np.round(bm.reconstruct(x2))\n",
    "    print \"------------------------------------\""
   ]
  },
  {
   "cell_type": "code",
   "execution_count": 6,
   "metadata": {},
   "outputs": [
    {
     "name": "stdout",
     "output_type": "stream",
     "text": [
      "[[0 0 0]\n",
      " [0 0 0]\n",
      " [0 0 0]\n",
      " [0 0 0]\n",
      " [0 0 0]\n",
      " [0 0 0]\n",
      " [0 0 0]\n",
      " [0 0 0]\n",
      " [0 0 1]\n",
      " [0 0 1]]\n",
      "('Time: ', 0.7905220985412598)\n",
      "model reconstructed x: [[0. 0. 0.]]\n",
      "model reconstructed x: [[0. 0. 0.]]\n"
     ]
    }
   ],
   "source": [
    "testset = np.array([[0,0,0],[0,0,1]])\n",
    "testset = np.repeat(testset, [8,2],axis=0)\n",
    "print testset\n",
    "start = timeit.default_timer()\n",
    "err = bm.fit(testset,n_epoches=1000)\n",
    "stop = timeit.default_timer()\n",
    "print('Time: ', stop - start) \n",
    "print \"model reconstructed x:\",np.round(bm.reconstruct(testset[0:1]))\n",
    "print \"model reconstructed x:\",np.round(bm.reconstruct(testset[-2:-1]))"
   ]
  },
  {
   "cell_type": "code",
   "execution_count": 7,
   "metadata": {},
   "outputs": [
    {
     "name": "stdout",
     "output_type": "stream",
     "text": [
      "[[0 0 0]\n",
      " [0 0 0]\n",
      " [0 0 1]\n",
      " [0 0 1]\n",
      " [0 0 1]\n",
      " [0 0 1]\n",
      " [0 0 1]\n",
      " [0 0 1]\n",
      " [0 0 1]\n",
      " [0 0 1]]\n",
      "('Time: ', 0.7799370288848877)\n",
      "model reconstructed x: [[0. 0. 0.]]\n",
      "model reconstructed x: [[0. 0. 1.]]\n"
     ]
    }
   ],
   "source": [
    "testset = np.array([[0,0,0],[0,0,1]])\n",
    "testset = np.repeat(testset, [2,8],axis=0)\n",
    "print testset\n",
    "start = timeit.default_timer()\n",
    "err = bm.fit(testset,n_epoches=1000)\n",
    "stop = timeit.default_timer()\n",
    "print('Time: ', stop - start) \n",
    "print \"model reconstructed x:\",np.round(bm.reconstruct(testset[0:1]))\n",
    "print \"model reconstructed x:\",np.round(bm.reconstruct(testset[-2:-1]))"
   ]
  },
  {
   "cell_type": "code",
   "execution_count": 8,
   "metadata": {},
   "outputs": [
    {
     "name": "stdout",
     "output_type": "stream",
     "text": [
      "('Time: ', 0.986940860748291)\n",
      "model reconstructed x: [[0. 0. 1.]]\n",
      "model reconstructed x: [[0. 0. 1.]]\n"
     ]
    }
   ],
   "source": [
    "bm = BBRBM(n_visible=3,n_hidden=13)\n",
    "testset = np.array([[0,0,0],[0,0,1]])\n",
    "testset = np.repeat(testset, [2,8],axis=0)\n",
    "# print testset\n",
    "start = timeit.default_timer()\n",
    "err = bm.fit(testset,n_epoches=1000)\n",
    "stop = timeit.default_timer()\n",
    "print('Time: ', stop - start) \n",
    "print \"model reconstructed x:\",np.round(bm.reconstruct(testset[0:1]))\n",
    "print \"model reconstructed x:\",np.round(bm.reconstruct(testset[-2:-1]))"
   ]
  },
  {
   "cell_type": "code",
   "execution_count": null,
   "metadata": {},
   "outputs": [],
   "source": []
  }
 ],
 "metadata": {
  "kernelspec": {
   "display_name": "Python 2",
   "language": "python",
   "name": "python2"
  },
  "language_info": {
   "codemirror_mode": {
    "name": "ipython",
    "version": 2
   },
   "file_extension": ".py",
   "mimetype": "text/x-python",
   "name": "python",
   "nbconvert_exporter": "python",
   "pygments_lexer": "ipython2",
   "version": "2.7.15"
  }
 },
 "nbformat": 4,
 "nbformat_minor": 2
}
