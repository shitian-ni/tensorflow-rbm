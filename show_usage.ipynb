{
 "cells": [
  {
   "cell_type": "markdown",
   "metadata": {},
   "source": [
    "## Train a  Bernoulli-Bernoulli RBM (BBRBM) to fit XOR calculations"
   ]
  },
  {
   "cell_type": "code",
   "execution_count": 1,
   "metadata": {},
   "outputs": [],
   "source": [
    "import numpy as np\n",
    "import timeit\n",
    "from tfrbm.bbrbm import BBRBM"
   ]
  },
  {
   "cell_type": "code",
   "execution_count": null,
   "metadata": {},
   "outputs": [],
   "source": [
    "bm = BBRBM(n_visible=3,n_hidden=13)"
   ]
  },
  {
   "cell_type": "markdown",
   "metadata": {},
   "source": [
    "### dataset[i][0] xor dataset[i][1] = dataset[i][2]"
   ]
  },
  {
   "cell_type": "code",
   "execution_count": null,
   "metadata": {},
   "outputs": [],
   "source": [
    "dataset = np.array([[0,0,0],[0,1,1],[1,0,1],[1,1,0]])"
   ]
  },
  {
   "cell_type": "markdown",
   "metadata": {},
   "source": [
    "### Train and predict same data in same iterations\n",
    "x is the correct data to train the model  \n",
    "x2 has wrong xor answer ( the third digit )  \n",
    "x2 would be reconstructed to x after training"
   ]
  },
  {
   "cell_type": "code",
   "execution_count": null,
   "metadata": {},
   "outputs": [],
   "source": [
    "for i in range(4):\n",
    "    x = dataset[i:i+1].copy()\n",
    "    x2 = dataset[i:i+1].copy()\n",
    "    x2[0,2] = 1-x2[0,2]\n",
    "    print \"x:\",x\n",
    "    print \"x2:\",x2\n",
    "    print \"Training model with x\"\n",
    "    err = bm.fit(x,n_epoches=500)\n",
    "    print \"model reconstructed x:\",np.round(bm.reconstruct(x))\n",
    "    print \"model reconstructed x2:\",np.round(bm.reconstruct(x2))\n",
    "    print \"Training done\"\n",
    "\n",
    "    positions_to_predict = [2]\n",
    "    prediction = bm.predict(x,positions_to_predict=positions_to_predict) # best result, energy for all possibilities\n",
    "    print \"model predicting x third digit to be:\",prediction[0].tolist()\n",
    "    prediction = bm.predict(x2,positions_to_predict=positions_to_predict)\n",
    "    print \"model predicting x2 third digit to be:\",prediction[0].tolist()\n",
    "    print \"------------------------------------\""
   ]
  },
  {
   "cell_type": "markdown",
   "metadata": {},
   "source": [
    "### All x variations would be reconstructured to the last training data [1, 1, 0]"
   ]
  },
  {
   "cell_type": "code",
   "execution_count": null,
   "metadata": {},
   "outputs": [],
   "source": [
    "for i in range(4):\n",
    "    x = dataset[i:i+1].copy()\n",
    "    x2 = dataset[i:i+1].copy()\n",
    "    x2[0,2] = 1-x2[0,2]\n",
    "    print \"x:\",x\n",
    "    print \"x2:\",x2\n",
    "    \n",
    "    positions_to_predict = [2]\n",
    "    print \"model reconstructed x:\",np.round(bm.reconstruct(x))\n",
    "    print \"model reconstructed x2:\",np.round(bm.reconstruct(x2))\n",
    "    print \"------------------------------------\""
   ]
  },
  {
   "cell_type": "markdown",
   "metadata": {},
   "source": [
    "### Majority vote data would be the data reconstruction target\n",
    "new fit() on top of the already trained model will fit the model to the new training data"
   ]
  },
  {
   "cell_type": "code",
   "execution_count": null,
   "metadata": {},
   "outputs": [],
   "source": [
    "training_data = np.array([[0,0,0],[0,0,1]])\n",
    "training_data = np.repeat(training_data, [8,2],axis=0)\n",
    "print \"training_data:\",training_data\n",
    "start = timeit.default_timer()\n",
    "err = bm.fit(training_data,n_epoches=500)\n",
    "stop = timeit.default_timer()\n",
    "print 'Time: ', stop - start, \"sec\"\n",
    "print \"model reconstructed [0,0,0]:\",np.round(bm.reconstruct(training_data[0:1]))\n",
    "print \"model reconstructed [0,0,1]:\",np.round(bm.reconstruct(training_data[-2:-1]))\n",
    "positions_to_predict = [2]\n",
    "prediction = bm.predict(training_data[0:1],positions_to_predict=positions_to_predict)\n",
    "print \"model predicting [0,0,0] third digit to be:\",prediction[0].tolist()"
   ]
  },
  {
   "cell_type": "markdown",
   "metadata": {},
   "source": [
    "### model would be overwritten with new training data\n",
    "Model may not reconstruct to the next new majority [0,0,1] because of the previous trainings.  \n",
    "But still can predict 0 xor 0 to be 1 from free energy comparison\n",
    "\n",
    "Note here that the training process is stochastic, so different runs may lead to different results  \n",
    "See tfrbm/bbrbm.py `line 12` `... sample_bernoulli ...`"
   ]
  },
  {
   "cell_type": "code",
   "execution_count": null,
   "metadata": {
    "scrolled": true
   },
   "outputs": [],
   "source": [
    "training_data = np.array([[0,0,0],[0,0,1]])\n",
    "training_data = np.repeat(training_data, [2,8],axis=0)\n",
    "print \"training_data:\",training_data\n",
    "start = timeit.default_timer()\n",
    "err = bm.fit(training_data,n_epoches=500)\n",
    "stop = timeit.default_timer()\n",
    "print 'Time: ', stop - start, \"sec\"\n",
    "print \"model reconstructed [0,0,0]:\",np.round(bm.reconstruct(training_data[0:1]))\n",
    "print \"model reconstructed [0,0,1]:\",np.round(bm.reconstruct(training_data[-2:-1]))\n",
    "positions_to_predict = [2]\n",
    "prediction = bm.predict(training_data[0:1],positions_to_predict=positions_to_predict)\n",
    "print \"model predicting [0,0,0] third digit to be:\",prediction[0].tolist()"
   ]
  },
  {
   "cell_type": "markdown",
   "metadata": {},
   "source": [
    "### More votes from [0,0,1] can lead reconstruction of [0,0,0] to [0,0,1] with higher probabilities\n",
    "Predicts still get correct answers"
   ]
  },
  {
   "cell_type": "code",
   "execution_count": null,
   "metadata": {},
   "outputs": [],
   "source": [
    "training_data = np.array([[0,0,0],[0,0,1]])\n",
    "training_data = np.repeat(training_data, [2,108],axis=0)\n",
    "\n",
    "start = timeit.default_timer()\n",
    "err = bm.fit(training_data,n_epoches=500)\n",
    "stop = timeit.default_timer()\n",
    "print 'Time: ', stop - start, \"sec\"\n",
    "print \"model reconstructed [0,0,0]:\",np.round(bm.reconstruct(training_data[0:1]))\n",
    "print \"model reconstructed [0,0,1]:\",np.round(bm.reconstruct(training_data[-2:-1]))\n",
    "positions_to_predict = [2]\n",
    "prediction = bm.predict(training_data[0:1],positions_to_predict=positions_to_predict)\n",
    "print \"model predicting [0,0,0] third digit to be:\",prediction[0].tolist()\n",
    "prediction = bm.predict(training_data[-2:-1],positions_to_predict=positions_to_predict)\n",
    "print \"model predicting [0,0,1] third digit to be:\",prediction[0].tolist()"
   ]
  },
  {
   "cell_type": "markdown",
   "metadata": {},
   "source": [
    "### If training data has the same occurrence, both reconstructions occur"
   ]
  },
  {
   "cell_type": "code",
   "execution_count": null,
   "metadata": {},
   "outputs": [],
   "source": [
    "training_data = np.array([[0,0,0],[0,0,1]])\n",
    "training_data = np.repeat(training_data, [88,88],axis=0)\n",
    "\n",
    "start = timeit.default_timer()\n",
    "err = bm.fit(training_data,n_epoches=500)\n",
    "stop = timeit.default_timer()\n",
    "print 'Time: ', stop - start, \"sec\"\n",
    "print \"model reconstructed [0,0,0]:\",np.round(bm.reconstruct(training_data[0:1]))\n",
    "print \"model reconstructed [0,0,1]:\",np.round(bm.reconstruct(training_data[-2:-1]))\n",
    "print \"model reconstructed [0,0,-1]:\",np.round(bm.reconstruct([[0,0,-1]]))\n",
    "print \"model reconstructed [0,0,100]:\",np.round(bm.reconstruct([[0,0,100]]))"
   ]
  }
 ],
 "metadata": {
  "kernelspec": {
   "display_name": "Python 2",
   "language": "python",
   "name": "python2"
  },
  "language_info": {
   "codemirror_mode": {
    "name": "ipython",
    "version": 2
   },
   "file_extension": ".py",
   "mimetype": "text/x-python",
   "name": "python",
   "nbconvert_exporter": "python",
   "pygments_lexer": "ipython2",
   "version": "2.7.11"
  }
 },
 "nbformat": 4,
 "nbformat_minor": 2
}
