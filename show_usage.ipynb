{
 "cells": [
  {
   "cell_type": "markdown",
   "metadata": {},
   "source": [
    "## Train a  Bernoulli-Bernoulli RBM (BBRBM) to fit XOR calculations"
   ]
  },
  {
   "cell_type": "code",
   "execution_count": 1,
   "metadata": {},
   "outputs": [],
   "source": [
    "import numpy as np\n",
    "from tfrbm.bbrbm import BBRBM\n",
    "from tqdm import tqdm_notebook as tqdm"
   ]
  },
  {
   "cell_type": "code",
   "execution_count": 2,
   "metadata": {},
   "outputs": [],
   "source": [
    "bm = BBRBM(n_visible=3,n_hidden=130)"
   ]
  },
  {
   "cell_type": "code",
   "execution_count": 3,
   "metadata": {},
   "outputs": [],
   "source": [
    "dataset = np.array([[0,0,0],[0,1,1],[1,0,1],[1,1,0]])"
   ]
  },
  {
   "cell_type": "code",
   "execution_count": 10,
   "metadata": {},
   "outputs": [
    {
     "name": "stdout",
     "output_type": "stream",
     "text": [
      "x: [[0. 0. 0.]]\n",
      "x2: [[0. 0. 1.]]\n",
      "Training model with x\n",
      "model reconstructed x: [[0. 0. 0.]]\n",
      "model reconstructed x2: [[0. 0. 0.]]\n",
      "Training done\n",
      "model predicting x third digit to be: [0.0]\n",
      "model predicting x2 third digit to be: [0.0]\n"
     ]
    }
   ],
   "source": [
    "x = np.zeros(shape=(1,3))\n",
    "x2 = np.zeros(shape=(1,3))\n",
    "x2[0,2] = 1\n",
    "print \"x:\",x\n",
    "print \"x2:\",x2\n",
    "print \"Training model with x\"\n",
    "err = bm.fit(x,n_epoches=100)\n",
    "print \"model reconstructed x:\",np.round(bm.reconstruct(x))\n",
    "print \"model reconstructed x2:\",np.round(bm.reconstruct(x2))\n",
    "print \"Training done\"\n",
    "\n",
    "positions_to_predict = [2]\n",
    "prediction = bm.predict(x,positions_to_predict=positions_to_predict) # best result, energy for all possibilities\n",
    "print \"model predicting x third digit to be:\",prediction[0].tolist()\n",
    "prediction = bm.predict(x2,positions_to_predict=positions_to_predict)\n",
    "print \"model predicting x2 third digit to be:\",prediction[0].tolist()"
   ]
  },
  {
   "cell_type": "code",
   "execution_count": null,
   "metadata": {},
   "outputs": [],
   "source": []
  }
 ],
 "metadata": {
  "kernelspec": {
   "display_name": "Python 2",
   "language": "python",
   "name": "python2"
  },
  "language_info": {
   "codemirror_mode": {
    "name": "ipython",
    "version": 2
   },
   "file_extension": ".py",
   "mimetype": "text/x-python",
   "name": "python",
   "nbconvert_exporter": "python",
   "pygments_lexer": "ipython2",
   "version": "2.7.15"
  }
 },
 "nbformat": 4,
 "nbformat_minor": 2
}
